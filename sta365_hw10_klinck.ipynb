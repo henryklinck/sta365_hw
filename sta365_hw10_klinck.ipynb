{
  "cells": [
    {
      "cell_type": "markdown",
      "id": "adefed38",
      "metadata": {
        "id": "adefed38"
      },
      "source": [
        "## Week 12 Homework (10)\n",
        "\n",
        "### Q1: define\n",
        "\n",
        "- Gaussian Processes (GPs) and stochastic processes generally\n",
        "- Variational inference using the Evidence Lower Bound (ELBO)\n",
        "\n",
        "\n"
      ]
    },
    {
      "cell_type": "markdown",
      "source": [
        "**General Stochastic Process**: A collection of random variables indexed by time or space. $\\{X_t\\} t∈T$, where each $X_t$  is a random variable.\n",
        "\n",
        "**Gaussian Process (GP)**: A stochastic process where any finite subset of variables has a joint Gaussian distribution.\n",
        "\n",
        "Fully specified by:\n",
        "\n",
        "*   Mean function: $m(x)=\\text{E}[f(x)]$\n",
        "*   Covariance function (kernel): $\\text{k}(x,x')= \\text{Cov}(f(x),f(x'))$\n",
        "\n",
        "Denoted as: $f(x)~GP(m(x),k(x,x'))$\n",
        "\n",
        "Usage: Non-parametric modeling of unknown functions in regression/classification with uncertainty quantification."
      ],
      "metadata": {
        "id": "foL1SOAgsImj"
      },
      "id": "foL1SOAgsImj"
    },
    {
      "cell_type": "markdown",
      "source": [
        "**Variational Inference (VI) and the Evidence Lower Bound (ELBO)**\n",
        "**Goal**: Approximate the posterior $p(θ|y)$ with a simpler distribution $q(θ)∈Q$\n",
        "\n",
        "**Method**: Minimize the KL divergence:\n",
        "\n",
        "$\\text{KL}(q(θ)∥p(θ|y))$\n",
        "\n",
        "**ELBO Definition:**\n",
        "\n",
        "$\\text{ELBO}(q)=E_{q(θ)}[\\text{log}p(y|θ)] - \\text{KL}(q(θ)∥p(θ))$\n",
        "\n",
        "Maximizing the ELBO ≈ minimizing KL divergence to the true posterior.\n",
        "\n",
        "**Why use VI?**\n",
        "\n",
        "Posterior is intractable? Use VI.\n",
        "\n",
        "Faster than MCMC in many contexts.\n",
        "\n",
        "Works well for high-dimensional or deep models (e.g. Bayesian NNs)."
      ],
      "metadata": {
        "id": "Bs2JH04EtkEL"
      },
      "id": "Bs2JH04EtkEL"
    },
    {
      "cell_type": "markdown",
      "source": [
        "### Q2: more GPs\n",
        "\n",
        "Repurpose PyMC documentation to provide a demonstration of Gaussian processes for a different dataset context than the PyMC examples.\n",
        "\n"
      ],
      "metadata": {
        "id": "ltbuYRh3qR4U"
      },
      "id": "ltbuYRh3qR4U"
    },
    {
      "cell_type": "code",
      "source": [
        "import pandas as pd\n",
        "import numpy as np\n",
        "import pymc as pm\n",
        "import matplotlib.pyplot as plt\n",
        "import arviz as az"
      ],
      "metadata": {
        "id": "rhVO9fcFsDxI"
      },
      "id": "rhVO9fcFsDxI",
      "execution_count": 3,
      "outputs": []
    },
    {
      "cell_type": "code",
      "source": [
        "import kagglehub\n",
        "\n",
        "# Using at Heart Disease Dataset\n",
        "# Download latest version\n",
        "path = kagglehub.dataset_download(\"alexteboul/heart-disease-health-indicators-dataset\")\n",
        "\n",
        "print(\"Path to dataset files:\", path)\n",
        "\n",
        "# Load Dataset\n",
        "data_path = \"/root/.cache/kagglehub/datasets/alexteboul/heart-disease-health-indicators-dataset/versions/3/heart_disease_health_indicators_BRFSS2015.csv\"\n",
        "df = pd.read_csv(data_path)\n",
        "\n",
        "# Use a random subset of 5000 samples\n",
        "df_sample = df.sample(n=5000, random_state=42)"
      ],
      "metadata": {
        "colab": {
          "base_uri": "https://localhost:8080/"
        },
        "id": "aVDYZ5UUsF65",
        "outputId": "54ab905e-6a1e-4b4b-a2a4-e5468bdd613a"
      },
      "id": "aVDYZ5UUsF65",
      "execution_count": 4,
      "outputs": [
        {
          "output_type": "stream",
          "name": "stdout",
          "text": [
            "Warning: Looks like you're using an outdated `kagglehub` version (installed: 0.3.10), please consider upgrading to the latest version (0.3.11).\n",
            "Path to dataset files: /root/.cache/kagglehub/datasets/alexteboul/heart-disease-health-indicators-dataset/versions/3\n"
          ]
        }
      ]
    },
    {
      "cell_type": "code",
      "source": [
        "# Use Age as input (scaled), BMI as output\n",
        "\n",
        "x = df_sample['Age'].values\n",
        "y = df_sample['BMI'].values\n",
        "x = (x - x.mean()) / x.std()\n",
        "\n",
        "\n",
        "subset_idx = np.random.choice(len(x), size=300, replace=False)\n",
        "x_small = x[subset_idx]\n",
        "y_small = y[subset_idx]\n",
        "\n",
        "# GP Regression\n",
        "with pm.Model() as gp_model:\n",
        "    l = pm.Gamma(\"l\", alpha=2, beta=1)\n",
        "    nu = pm.HalfNormal(\"η\", sigma=5)\n",
        "    cov = nu**2 * pm.gp.cov.ExpQuad(1, l)\n",
        "\n",
        "    gp = pm.gp.Marginal(cov_func=cov)\n",
        "    sigma = pm.HalfNormal(\"sigma\", sigma=1)\n",
        "\n",
        "    y_obs = gp.marginal_likelihood(\"y\", X=x_small[:, None], y=y_small, noise=sigma)\n",
        "    trace_gp = pm.sample(500, chains=2, return_inferencedata=True)\n",
        "\n",
        "# Predict\n",
        "Xnew = np.linspace(x.min(), x.max(), 200)[:, None]\n",
        "with gp_model:\n",
        "    y_pred = gp.conditional(\"y_pred\", Xnew)\n",
        "    pred_samples = pm.sample_posterior_predictive(trace_gp, var_names=[\"y_pred\"], random_seed=42, return_inferencedata=False)\n",
        "\n",
        "# Plot\n",
        "plt.figure(figsize=(12, 5))\n",
        "plt.plot(x, y, \"k.\", alpha=0.2, label=\"Data\")\n",
        "plt.plot(Xnew.flatten(), pred_samples[\"y_pred\"].mean(0), color=\"blue\", label=\"GP Mean\")\n",
        "plt.fill_between(Xnew.flatten(),\n",
        "                 np.percentile(pred_samples[\"y_pred\"], 2.5, axis=0),\n",
        "                 np.percentile(pred_samples[\"y_pred\"], 97.5, axis=0),\n",
        "                 alpha=0.3, label=\"95% CI\")\n",
        "plt.legend(); plt.title(\"GP Regression on Age vs BMI\");"
      ],
      "metadata": {
        "colab": {
          "base_uri": "https://localhost:8080/",
          "height": 964,
          "referenced_widgets": [
            "6f09e821606f4ca38de6d4ec57b1a5d8",
            "42dc70d4c57c458f9a604632849cf525",
            "b4c46fb6a4e14c63bbeee1301b09b313",
            "c2805cb227e24e5c90c531b94664636b"
          ]
        },
        "id": "JkU4uhgAu0GR",
        "outputId": "9803c531-1cc0-4cfd-c9e4-161dea2c4423"
      },
      "id": "JkU4uhgAu0GR",
      "execution_count": 6,
      "outputs": [
        {
          "output_type": "stream",
          "name": "stderr",
          "text": [
            "/usr/local/lib/python3.11/dist-packages/pymc/gp/gp.py:55: FutureWarning: The 'noise' parameter has been been changed to 'sigma' in order to standardize the GP API and will be deprecated in future releases.\n",
            "  warnings.warn(_noise_deprecation_warning, FutureWarning)\n"
          ]
        },
        {
          "output_type": "display_data",
          "data": {
            "text/plain": [
              "Output()"
            ],
            "application/vnd.jupyter.widget-view+json": {
              "version_major": 2,
              "version_minor": 0,
              "model_id": "6f09e821606f4ca38de6d4ec57b1a5d8"
            }
          },
          "metadata": {}
        },
        {
          "output_type": "display_data",
          "data": {
            "text/plain": [],
            "text/html": [
              "<pre style=\"white-space:pre;overflow-x:auto;line-height:normal;font-family:Menlo,'DejaVu Sans Mono',consolas,'Courier New',monospace\"></pre>\n"
            ]
          },
          "metadata": {}
        },
        {
          "output_type": "display_data",
          "data": {
            "text/plain": [
              "Output()"
            ],
            "application/vnd.jupyter.widget-view+json": {
              "version_major": 2,
              "version_minor": 0,
              "model_id": "b4c46fb6a4e14c63bbeee1301b09b313"
            }
          },
          "metadata": {}
        },
        {
          "output_type": "display_data",
          "data": {
            "text/plain": [],
            "text/html": [
              "<pre style=\"white-space:pre;overflow-x:auto;line-height:normal;font-family:Menlo,'DejaVu Sans Mono',consolas,'Courier New',monospace\"></pre>\n"
            ]
          },
          "metadata": {}
        },
        {
          "output_type": "error",
          "ename": "ValueError",
          "evalue": "x and y must have same first dimension, but have shapes (200,) and (500, 200)",
          "traceback": [
            "\u001b[0;31m---------------------------------------------------------------------------\u001b[0m",
            "\u001b[0;31mValueError\u001b[0m                                Traceback (most recent call last)",
            "\u001b[0;32m<ipython-input-6-9d6e32b15c3e>\u001b[0m in \u001b[0;36m<cell line: 0>\u001b[0;34m()\u001b[0m\n\u001b[1;32m     31\u001b[0m \u001b[0mplt\u001b[0m\u001b[0;34m.\u001b[0m\u001b[0mfigure\u001b[0m\u001b[0;34m(\u001b[0m\u001b[0mfigsize\u001b[0m\u001b[0;34m=\u001b[0m\u001b[0;34m(\u001b[0m\u001b[0;36m12\u001b[0m\u001b[0;34m,\u001b[0m \u001b[0;36m5\u001b[0m\u001b[0;34m)\u001b[0m\u001b[0;34m)\u001b[0m\u001b[0;34m\u001b[0m\u001b[0;34m\u001b[0m\u001b[0m\n\u001b[1;32m     32\u001b[0m \u001b[0mplt\u001b[0m\u001b[0;34m.\u001b[0m\u001b[0mplot\u001b[0m\u001b[0;34m(\u001b[0m\u001b[0mx\u001b[0m\u001b[0;34m,\u001b[0m \u001b[0my\u001b[0m\u001b[0;34m,\u001b[0m \u001b[0;34m\"k.\"\u001b[0m\u001b[0;34m,\u001b[0m \u001b[0malpha\u001b[0m\u001b[0;34m=\u001b[0m\u001b[0;36m0.2\u001b[0m\u001b[0;34m,\u001b[0m \u001b[0mlabel\u001b[0m\u001b[0;34m=\u001b[0m\u001b[0;34m\"Data\"\u001b[0m\u001b[0;34m)\u001b[0m\u001b[0;34m\u001b[0m\u001b[0;34m\u001b[0m\u001b[0m\n\u001b[0;32m---> 33\u001b[0;31m \u001b[0mplt\u001b[0m\u001b[0;34m.\u001b[0m\u001b[0mplot\u001b[0m\u001b[0;34m(\u001b[0m\u001b[0mXnew\u001b[0m\u001b[0;34m.\u001b[0m\u001b[0mflatten\u001b[0m\u001b[0;34m(\u001b[0m\u001b[0;34m)\u001b[0m\u001b[0;34m,\u001b[0m \u001b[0mpred_samples\u001b[0m\u001b[0;34m[\u001b[0m\u001b[0;34m\"y_pred\"\u001b[0m\u001b[0;34m]\u001b[0m\u001b[0;34m.\u001b[0m\u001b[0mmean\u001b[0m\u001b[0;34m(\u001b[0m\u001b[0;36m0\u001b[0m\u001b[0;34m)\u001b[0m\u001b[0;34m,\u001b[0m \u001b[0mcolor\u001b[0m\u001b[0;34m=\u001b[0m\u001b[0;34m\"blue\"\u001b[0m\u001b[0;34m,\u001b[0m \u001b[0mlabel\u001b[0m\u001b[0;34m=\u001b[0m\u001b[0;34m\"GP Mean\"\u001b[0m\u001b[0;34m)\u001b[0m\u001b[0;34m\u001b[0m\u001b[0;34m\u001b[0m\u001b[0m\n\u001b[0m\u001b[1;32m     34\u001b[0m plt.fill_between(Xnew.flatten(),\n\u001b[1;32m     35\u001b[0m                  \u001b[0mnp\u001b[0m\u001b[0;34m.\u001b[0m\u001b[0mpercentile\u001b[0m\u001b[0;34m(\u001b[0m\u001b[0mpred_samples\u001b[0m\u001b[0;34m[\u001b[0m\u001b[0;34m\"y_pred\"\u001b[0m\u001b[0;34m]\u001b[0m\u001b[0;34m,\u001b[0m \u001b[0;36m2.5\u001b[0m\u001b[0;34m,\u001b[0m \u001b[0maxis\u001b[0m\u001b[0;34m=\u001b[0m\u001b[0;36m0\u001b[0m\u001b[0;34m)\u001b[0m\u001b[0;34m,\u001b[0m\u001b[0;34m\u001b[0m\u001b[0;34m\u001b[0m\u001b[0m\n",
            "\u001b[0;32m/usr/local/lib/python3.11/dist-packages/matplotlib/pyplot.py\u001b[0m in \u001b[0;36mplot\u001b[0;34m(scalex, scaley, data, *args, **kwargs)\u001b[0m\n\u001b[1;32m   3827\u001b[0m     \u001b[0;34m**\u001b[0m\u001b[0mkwargs\u001b[0m\u001b[0;34m,\u001b[0m\u001b[0;34m\u001b[0m\u001b[0;34m\u001b[0m\u001b[0m\n\u001b[1;32m   3828\u001b[0m ) -> list[Line2D]:\n\u001b[0;32m-> 3829\u001b[0;31m     return gca().plot(\n\u001b[0m\u001b[1;32m   3830\u001b[0m         \u001b[0;34m*\u001b[0m\u001b[0margs\u001b[0m\u001b[0;34m,\u001b[0m\u001b[0;34m\u001b[0m\u001b[0;34m\u001b[0m\u001b[0m\n\u001b[1;32m   3831\u001b[0m         \u001b[0mscalex\u001b[0m\u001b[0;34m=\u001b[0m\u001b[0mscalex\u001b[0m\u001b[0;34m,\u001b[0m\u001b[0;34m\u001b[0m\u001b[0;34m\u001b[0m\u001b[0m\n",
            "\u001b[0;32m/usr/local/lib/python3.11/dist-packages/matplotlib/axes/_axes.py\u001b[0m in \u001b[0;36mplot\u001b[0;34m(self, scalex, scaley, data, *args, **kwargs)\u001b[0m\n\u001b[1;32m   1775\u001b[0m         \"\"\"\n\u001b[1;32m   1776\u001b[0m         \u001b[0mkwargs\u001b[0m \u001b[0;34m=\u001b[0m \u001b[0mcbook\u001b[0m\u001b[0;34m.\u001b[0m\u001b[0mnormalize_kwargs\u001b[0m\u001b[0;34m(\u001b[0m\u001b[0mkwargs\u001b[0m\u001b[0;34m,\u001b[0m \u001b[0mmlines\u001b[0m\u001b[0;34m.\u001b[0m\u001b[0mLine2D\u001b[0m\u001b[0;34m)\u001b[0m\u001b[0;34m\u001b[0m\u001b[0;34m\u001b[0m\u001b[0m\n\u001b[0;32m-> 1777\u001b[0;31m         \u001b[0mlines\u001b[0m \u001b[0;34m=\u001b[0m \u001b[0;34m[\u001b[0m\u001b[0;34m*\u001b[0m\u001b[0mself\u001b[0m\u001b[0;34m.\u001b[0m\u001b[0m_get_lines\u001b[0m\u001b[0;34m(\u001b[0m\u001b[0mself\u001b[0m\u001b[0;34m,\u001b[0m \u001b[0;34m*\u001b[0m\u001b[0margs\u001b[0m\u001b[0;34m,\u001b[0m \u001b[0mdata\u001b[0m\u001b[0;34m=\u001b[0m\u001b[0mdata\u001b[0m\u001b[0;34m,\u001b[0m \u001b[0;34m**\u001b[0m\u001b[0mkwargs\u001b[0m\u001b[0;34m)\u001b[0m\u001b[0;34m]\u001b[0m\u001b[0;34m\u001b[0m\u001b[0;34m\u001b[0m\u001b[0m\n\u001b[0m\u001b[1;32m   1778\u001b[0m         \u001b[0;32mfor\u001b[0m \u001b[0mline\u001b[0m \u001b[0;32min\u001b[0m \u001b[0mlines\u001b[0m\u001b[0;34m:\u001b[0m\u001b[0;34m\u001b[0m\u001b[0;34m\u001b[0m\u001b[0m\n\u001b[1;32m   1779\u001b[0m             \u001b[0mself\u001b[0m\u001b[0;34m.\u001b[0m\u001b[0madd_line\u001b[0m\u001b[0;34m(\u001b[0m\u001b[0mline\u001b[0m\u001b[0;34m)\u001b[0m\u001b[0;34m\u001b[0m\u001b[0;34m\u001b[0m\u001b[0m\n",
            "\u001b[0;32m/usr/local/lib/python3.11/dist-packages/matplotlib/axes/_base.py\u001b[0m in \u001b[0;36m__call__\u001b[0;34m(self, axes, data, return_kwargs, *args, **kwargs)\u001b[0m\n\u001b[1;32m    295\u001b[0m                 \u001b[0mthis\u001b[0m \u001b[0;34m+=\u001b[0m \u001b[0margs\u001b[0m\u001b[0;34m[\u001b[0m\u001b[0;36m0\u001b[0m\u001b[0;34m]\u001b[0m\u001b[0;34m,\u001b[0m\u001b[0;34m\u001b[0m\u001b[0;34m\u001b[0m\u001b[0m\n\u001b[1;32m    296\u001b[0m                 \u001b[0margs\u001b[0m \u001b[0;34m=\u001b[0m \u001b[0margs\u001b[0m\u001b[0;34m[\u001b[0m\u001b[0;36m1\u001b[0m\u001b[0;34m:\u001b[0m\u001b[0;34m]\u001b[0m\u001b[0;34m\u001b[0m\u001b[0;34m\u001b[0m\u001b[0m\n\u001b[0;32m--> 297\u001b[0;31m             yield from self._plot_args(\n\u001b[0m\u001b[1;32m    298\u001b[0m                 \u001b[0maxes\u001b[0m\u001b[0;34m,\u001b[0m \u001b[0mthis\u001b[0m\u001b[0;34m,\u001b[0m \u001b[0mkwargs\u001b[0m\u001b[0;34m,\u001b[0m \u001b[0mambiguous_fmt_datakey\u001b[0m\u001b[0;34m=\u001b[0m\u001b[0mambiguous_fmt_datakey\u001b[0m\u001b[0;34m,\u001b[0m\u001b[0;34m\u001b[0m\u001b[0;34m\u001b[0m\u001b[0m\n\u001b[1;32m    299\u001b[0m                 \u001b[0mreturn_kwargs\u001b[0m\u001b[0;34m=\u001b[0m\u001b[0mreturn_kwargs\u001b[0m\u001b[0;34m\u001b[0m\u001b[0;34m\u001b[0m\u001b[0m\n",
            "\u001b[0;32m/usr/local/lib/python3.11/dist-packages/matplotlib/axes/_base.py\u001b[0m in \u001b[0;36m_plot_args\u001b[0;34m(self, axes, tup, kwargs, return_kwargs, ambiguous_fmt_datakey)\u001b[0m\n\u001b[1;32m    492\u001b[0m \u001b[0;34m\u001b[0m\u001b[0m\n\u001b[1;32m    493\u001b[0m         \u001b[0;32mif\u001b[0m \u001b[0mx\u001b[0m\u001b[0;34m.\u001b[0m\u001b[0mshape\u001b[0m\u001b[0;34m[\u001b[0m\u001b[0;36m0\u001b[0m\u001b[0;34m]\u001b[0m \u001b[0;34m!=\u001b[0m \u001b[0my\u001b[0m\u001b[0;34m.\u001b[0m\u001b[0mshape\u001b[0m\u001b[0;34m[\u001b[0m\u001b[0;36m0\u001b[0m\u001b[0;34m]\u001b[0m\u001b[0;34m:\u001b[0m\u001b[0;34m\u001b[0m\u001b[0;34m\u001b[0m\u001b[0m\n\u001b[0;32m--> 494\u001b[0;31m             raise ValueError(f\"x and y must have same first dimension, but \"\n\u001b[0m\u001b[1;32m    495\u001b[0m                              f\"have shapes {x.shape} and {y.shape}\")\n\u001b[1;32m    496\u001b[0m         \u001b[0;32mif\u001b[0m \u001b[0mx\u001b[0m\u001b[0;34m.\u001b[0m\u001b[0mndim\u001b[0m \u001b[0;34m>\u001b[0m \u001b[0;36m2\u001b[0m \u001b[0;32mor\u001b[0m \u001b[0my\u001b[0m\u001b[0;34m.\u001b[0m\u001b[0mndim\u001b[0m \u001b[0;34m>\u001b[0m \u001b[0;36m2\u001b[0m\u001b[0;34m:\u001b[0m\u001b[0;34m\u001b[0m\u001b[0;34m\u001b[0m\u001b[0m\n",
            "\u001b[0;31mValueError\u001b[0m: x and y must have same first dimension, but have shapes (200,) and (500, 200)"
          ]
        },
        {
          "output_type": "display_data",
          "data": {
            "text/plain": [
              "<Figure size 1200x500 with 1 Axes>"
            ],
            "image/png": "[encoded data removed]"
          },
          "metadata": {}
        }
      ]
    },
    {
      "cell_type": "markdown",
      "source": [
        "**Q2 Explaination**\n",
        "\n",
        "We model:\n",
        "\n",
        "$\\text{BMI}_i ∼ N(f(x_i), σ^2)$\n",
        "\n",
        "$f(x) \\sim GP()0, k(x, x'))$\n",
        "\n",
        "$k(x,x') = μ^2 exp(- \\frac{(x-x')^2}{2l^2}$)\n",
        "\n",
        "where $x_i$ is normalized age and the GP estimates the BMI distribution with uncertainty."
      ],
      "metadata": {
        "id": "4d48xs7Sv2jB"
      },
      "id": "4d48xs7Sv2jB"
    },
    {
      "cell_type": "markdown",
      "source": [
        "### Q3: more VI/ELBO\n",
        "\n",
        "Repurpose PyMC documentation to provide a demonstration of a neural network fit with variational inference for a different dataset context than the PyMC examples.\n"
      ],
      "metadata": {
        "id": "AaGkBSSBqs_h"
      },
      "id": "AaGkBSSBqs_h"
    },
    {
      "cell_type": "code",
      "source": [
        "import pytensor.tensor as pt"
      ],
      "metadata": {
        "id": "B64C6CzeyoUV"
      },
      "id": "B64C6CzeyoUV",
      "execution_count": 7,
      "outputs": []
    },
    {
      "cell_type": "code",
      "source": [
        "import kagglehub\n",
        "\n",
        "# Using at Heart Disease Dataset\n",
        "# Download latest version\n",
        "path = kagglehub.dataset_download(\"alexteboul/heart-disease-health-indicators-dataset\")\n",
        "\n",
        "print(\"Path to dataset files:\", path)\n",
        "\n",
        "# Load Dataset\n",
        "data_path = \"/root/.cache/kagglehub/datasets/alexteboul/heart-disease-health-indicators-dataset/versions/3/heart_disease_health_indicators_BRFSS2015.csv\"\n",
        "df = pd.read_csv(data_path)\n",
        "\n",
        "# Use a random subset of 5000 samples\n",
        "df_sample = df.sample(n=5000, random_state=42)"
      ],
      "metadata": {
        "colab": {
          "base_uri": "https://localhost:8080/"
        },
        "id": "LB_i1A5F2fu3",
        "outputId": "2c3f380e-bf75-4726-ad9d-ce91b2215407"
      },
      "id": "LB_i1A5F2fu3",
      "execution_count": 9,
      "outputs": [
        {
          "output_type": "stream",
          "name": "stdout",
          "text": [
            "Warning: Looks like you're using an outdated `kagglehub` version (installed: 0.3.10), please consider upgrading to the latest version (0.3.11).\n",
            "Path to dataset files: /root/.cache/kagglehub/datasets/alexteboul/heart-disease-health-indicators-dataset/versions/3\n"
          ]
        }
      ]
    },
    {
      "cell_type": "code",
      "source": [
        "\n",
        "# Feature and target selection\n",
        "features = ['PhysHlth', 'HvyAlcoholConsump', 'Smoker', 'BMI']\n",
        "target = 'HeartDiseaseorAttack'\n",
        "\n",
        "X_full = df_sample[features].values\n",
        "y_full = df_sample[target].values.astype(int)\n",
        "\n",
        "# Standardize full X first\n",
        "X_full = (X_full - X_full.mean(axis=0)) / X_full.std(axis=0)\n",
        "\n",
        "# Sample 500 data points for fast VI training\n",
        "subset_idx = np.random.choice(len(X_full), size=500, replace=False)\n",
        "X = X_full[subset_idx]\n",
        "y = y_full[subset_idx]\n",
        "\n",
        "with pm.Model() as bnn_model:\n",
        "    n_hidden = 6\n",
        "\n",
        "    # Layer 1\n",
        "    w0 = pm.Normal(\"w0\", 0, 1, shape=(X.shape[1], n_hidden))\n",
        "    b0 = pm.Normal(\"b0\", 0, 1, shape=(n_hidden,))\n",
        "    w1 = pm.Normal(\"w1\", 0, 1, shape=(n_hidden,))\n",
        "    b1 = pm.Normal(\"b1\", 0, 1)\n",
        "\n",
        "    # Network function\n",
        "    def nn(X):\n",
        "        h = pt.tanh(pt.dot(X, w0) + b0)\n",
        "        return pt.dot(h, w1) + b1\n",
        "\n",
        "    logits = nn(X)\n",
        "    p = pm.Deterministic(\"p\", pm.math.sigmoid(logits))\n",
        "    y_obs = pm.Bernoulli(\"y\", p=p, observed=y)\n",
        "\n",
        "    # Fit with Variational Inference\n",
        "    approx = pm.fit(10_000, method=\"advi\")\n",
        "    trace_bnn = approx.sample(1000)\n"
      ],
      "metadata": {
        "colab": {
          "base_uri": "https://localhost:8080/",
          "height": 34,
          "referenced_widgets": [
            "4430b491cbe84659933cd827a7cb9f3b",
            "345ae7cdecdc4fdf9997be3e00ffd483"
          ]
        },
        "id": "MFYyxlISzA7z",
        "outputId": "50047a37-bd2c-48d9-f6d4-c24418f13ff7"
      },
      "id": "MFYyxlISzA7z",
      "execution_count": 13,
      "outputs": [
        {
          "output_type": "display_data",
          "data": {
            "text/plain": [
              "Output()"
            ],
            "application/vnd.jupyter.widget-view+json": {
              "version_major": 2,
              "version_minor": 0,
              "model_id": "4430b491cbe84659933cd827a7cb9f3b"
            }
          },
          "metadata": {}
        },
        {
          "output_type": "display_data",
          "data": {
            "text/plain": [],
            "text/html": [
              "<pre style=\"white-space:pre;overflow-x:auto;line-height:normal;font-family:Menlo,'DejaVu Sans Mono',consolas,'Courier New',monospace\"></pre>\n"
            ]
          },
          "metadata": {}
        }
      ]
    },
    {
      "cell_type": "markdown",
      "source": [
        "**Explaination of Q3**\n",
        "\n",
        "We use a random subset of 500 samples from the dataset to ensure fast computation during variational inference. The model structure remains:\n",
        "\n",
        "h = tanh($XW_0 + b_0$)\n",
        "\n",
        "$μ$ = h $⋅$ $w_1 +b_1$\n",
        "\n",
        "p = $σ(\\mu)$ (sigmoid activation)\n",
        "\n",
        "$y_i \\sim$ Bernoulli($p_i$)\n",
        "\n",
        "Where $X \\in R^{500x5}$ is the standardized matrix of inputs:\n",
        "\n",
        "PhysicalActivity, AlcoholDrinking, Smoking, SleepTime, and BMI.\n",
        "\n",
        "The approximate posterior is obtained via Automatic Differentiation Variational Inference (ADVI) by maximizing the Evidence Lower Bound (ELBO):\n",
        "\n",
        "ELBO(q)= E$_{q(Θ)}$[log$p(y|θ)$] - KL(q($\\theta$) || q($\\theta$))\n",
        "\n",
        "This subsampling improves computational speed while still capturing meaningful posterior uncertainty over the parameters."
      ],
      "metadata": {
        "id": "NToL39AMzEM6"
      },
      "id": "NToL39AMzEM6"
    },
    {
      "cell_type": "markdown",
      "source": [
        "References: Used OpenAI in sections of this assignment"
      ],
      "metadata": {
        "id": "7cRqBNg_qTxb"
      },
      "id": "7cRqBNg_qTxb"
    }
  ],
  "metadata": {
    "kernelspec": {
      "display_name": "Python 3 (ipykernel)",
      "language": "python",
      "name": "python3"
    },
    "language_info": {
      "codemirror_mode": {
        "name": "ipython",
        "version": 3
      },
      "file_extension": ".py",
      "mimetype": "text/x-python",
      "name": "python",
      "nbconvert_exporter": "python",
      "pygments_lexer": "ipython3",
      "version": "3.11.4"
    },
    "colab": {
      "provenance": []
    },
    "widgets": {
      "application/vnd.jupyter.widget-state+json": {
        "6f09e821606f4ca38de6d4ec57b1a5d8": {
          "model_module": "@jupyter-widgets/output",
          "model_name": "OutputModel",
          "model_module_version": "1.0.0",
          "state": {
            "_dom_classes": [],
            "_model_module": "@jupyter-widgets/output",
            "_model_module_version": "1.0.0",
            "_model_name": "OutputModel",
            "_view_count": null,
            "_view_module": "@jupyter-widgets/output",
            "_view_module_version": "1.0.0",
            "_view_name": "OutputView",
            "layout": "IPY_MODEL_42dc70d4c57c458f9a604632849cf525",
            "msg_id": "",
            "outputs": [
              {
                "output_type": "display_data",
                "data": {
                  "text/plain": "                                                                                                                   \n \u001b[1m \u001b[0m\u001b[1mProgress                 \u001b[0m\u001b[1m \u001b[0m \u001b[1m \u001b[0m\u001b[1mDraws\u001b[0m\u001b[1m \u001b[0m \u001b[1m \u001b[0m\u001b[1mDivergences\u001b[0m\u001b[1m \u001b[0m \u001b[1m \u001b[0m\u001b[1mStep size\u001b[0m\u001b[1m \u001b[0m \u001b[1m \u001b[0m\u001b[1mGrad evals\u001b[0m\u001b[1m \u001b[0m \u001b[1m \u001b[0m\u001b[1mSampling Speed\u001b[0m\u001b[1m \u001b[0m \u001b[1m \u001b[0m\u001b[1mElapsed\u001b[0m\u001b[1m \u001b[0m \u001b[1m \u001b[0m\u001b[1mRemaining\u001b[0m\u001b[1m \u001b[0m \n ───────────────────────────────────────────────────────────────────────────────────────────────────────────────── \n  \u001b[38;2;31;119;180m━━━━━━━━━━━━━━━━━━━━━━━━━\u001b[0m   1500    0             1.06        7            8.31 draws/s     0:03:00   0:00:00    \n  \u001b[38;2;31;119;180m━━━━━━━━━━━━━━━━━━━━━━━━━\u001b[0m   1500    0             1.23        3            4.06 draws/s     0:06:08   0:00:00    \n                                                                                                                   \n",
                  "text/html": "<pre style=\"white-space:pre;overflow-x:auto;line-height:normal;font-family:Menlo,'DejaVu Sans Mono',consolas,'Courier New',monospace\">                                                                                                                   \n <span style=\"font-weight: bold\"> Progress                  </span> <span style=\"font-weight: bold\"> Draws </span> <span style=\"font-weight: bold\"> Divergences </span> <span style=\"font-weight: bold\"> Step size </span> <span style=\"font-weight: bold\"> Grad evals </span> <span style=\"font-weight: bold\"> Sampling Speed </span> <span style=\"font-weight: bold\"> Elapsed </span> <span style=\"font-weight: bold\"> Remaining </span> \n ───────────────────────────────────────────────────────────────────────────────────────────────────────────────── \n  <span style=\"color: #1f77b4; text-decoration-color: #1f77b4\">━━━━━━━━━━━━━━━━━━━━━━━━━</span>   1500    0             1.06        7            8.31 draws/s     0:03:00   0:00:00    \n  <span style=\"color: #1f77b4; text-decoration-color: #1f77b4\">━━━━━━━━━━━━━━━━━━━━━━━━━</span>   1500    0             1.23        3            4.06 draws/s     0:06:08   0:00:00    \n                                                                                                                   \n</pre>\n"
                },
                "metadata": {}
              }
            ]
          }
        },
        "42dc70d4c57c458f9a604632849cf525": {
          "model_module": "@jupyter-widgets/base",
          "model_name": "LayoutModel",
          "model_module_version": "1.2.0",
          "state": {
            "_model_module": "@jupyter-widgets/base",
            "_model_module_version": "1.2.0",
            "_model_name": "LayoutModel",
            "_view_count": null,
            "_view_module": "@jupyter-widgets/base",
            "_view_module_version": "1.2.0",
            "_view_name": "LayoutView",
            "align_content": null,
            "align_items": null,
            "align_self": null,
            "border": null,
            "bottom": null,
            "display": null,
            "flex": null,
            "flex_flow": null,
            "grid_area": null,
            "grid_auto_columns": null,
            "grid_auto_flow": null,
            "grid_auto_rows": null,
            "grid_column": null,
            "grid_gap": null,
            "grid_row": null,
            "grid_template_areas": null,
            "grid_template_columns": null,
            "grid_template_rows": null,
            "height": null,
            "justify_content": null,
            "justify_items": null,
            "left": null,
            "margin": null,
            "max_height": null,
            "max_width": null,
            "min_height": null,
            "min_width": null,
            "object_fit": null,
            "object_position": null,
            "order": null,
            "overflow": null,
            "overflow_x": null,
            "overflow_y": null,
            "padding": null,
            "right": null,
            "top": null,
            "visibility": null,
            "width": null
          }
        },
        "b4c46fb6a4e14c63bbeee1301b09b313": {
          "model_module": "@jupyter-widgets/output",
          "model_name": "OutputModel",
          "model_module_version": "1.0.0",
          "state": {
            "_dom_classes": [],
            "_model_module": "@jupyter-widgets/output",
            "_model_module_version": "1.0.0",
            "_model_name": "OutputModel",
            "_view_count": null,
            "_view_module": "@jupyter-widgets/output",
            "_view_module_version": "1.0.0",
            "_view_name": "OutputView",
            "layout": "IPY_MODEL_c2805cb227e24e5c90c531b94664636b",
            "msg_id": "",
            "outputs": [
              {
                "output_type": "display_data",
                "data": {
                  "text/plain": "Sampling ... \u001b[32m━━━━━━━━━━━━━━━━━━━━━━━━━━━━━━━━━━━━━━━━\u001b[0m \u001b[35m100%\u001b[0m 0:00:00 / 0:00:51\n",
                  "text/html": "<pre style=\"white-space:pre;overflow-x:auto;line-height:normal;font-family:Menlo,'DejaVu Sans Mono',consolas,'Courier New',monospace\">Sampling ... <span style=\"color: #008000; text-decoration-color: #008000\">━━━━━━━━━━━━━━━━━━━━━━━━━━━━━━━━━━━━━━━━</span> <span style=\"color: #800080; text-decoration-color: #800080\">100%</span> 0:00:00 / 0:00:51\n</pre>\n"
                },
                "metadata": {}
              }
            ]
          }
        },
        "c2805cb227e24e5c90c531b94664636b": {
          "model_module": "@jupyter-widgets/base",
          "model_name": "LayoutModel",
          "model_module_version": "1.2.0",
          "state": {
            "_model_module": "@jupyter-widgets/base",
            "_model_module_version": "1.2.0",
            "_model_name": "LayoutModel",
            "_view_count": null,
            "_view_module": "@jupyter-widgets/base",
            "_view_module_version": "1.2.0",
            "_view_name": "LayoutView",
            "align_content": null,
            "align_items": null,
            "align_self": null,
            "border": null,
            "bottom": null,
            "display": null,
            "flex": null,
            "flex_flow": null,
            "grid_area": null,
            "grid_auto_columns": null,
            "grid_auto_flow": null,
            "grid_auto_rows": null,
            "grid_column": null,
            "grid_gap": null,
            "grid_row": null,
            "grid_template_areas": null,
            "grid_template_columns": null,
            "grid_template_rows": null,
            "height": null,
            "justify_content": null,
            "justify_items": null,
            "left": null,
            "margin": null,
            "max_height": null,
            "max_width": null,
            "min_height": null,
            "min_width": null,
            "object_fit": null,
            "object_position": null,
            "order": null,
            "overflow": null,
            "overflow_x": null,
            "overflow_y": null,
            "padding": null,
            "right": null,
            "top": null,
            "visibility": null,
            "width": null
          }
        },
        "4430b491cbe84659933cd827a7cb9f3b": {
          "model_module": "@jupyter-widgets/output",
          "model_name": "OutputModel",
          "model_module_version": "1.0.0",
          "state": {
            "_dom_classes": [],
            "_model_module": "@jupyter-widgets/output",
            "_model_module_version": "1.0.0",
            "_model_name": "OutputModel",
            "_view_count": null,
            "_view_module": "@jupyter-widgets/output",
            "_view_module_version": "1.0.0",
            "_view_name": "OutputView",
            "layout": "IPY_MODEL_345ae7cdecdc4fdf9997be3e00ffd483",
            "msg_id": "",
            "outputs": [
              {
                "output_type": "display_data",
                "data": {
                  "text/plain": "Fitting: \u001b[38;2;23;100;244m━━━━━━━━━━━━━━━━━━━━━━━━━━━━━━━━━━━━━━━\u001b[0m\u001b[38;5;237m╺\u001b[0m \u001b[35m 99%\u001b[0m 0:00:01 Average Loss = 161.99\n",
                  "text/html": "<pre style=\"white-space:pre;overflow-x:auto;line-height:normal;font-family:Menlo,'DejaVu Sans Mono',consolas,'Courier New',monospace\">Fitting: <span style=\"color: #1764f4; text-decoration-color: #1764f4\">━━━━━━━━━━━━━━━━━━━━━━━━━━━━━━━━━━━━━━━</span><span style=\"color: #3a3a3a; text-decoration-color: #3a3a3a\">╺</span> <span style=\"color: #800080; text-decoration-color: #800080\"> 99%</span> 0:00:01 Average Loss = 161.99\n</pre>\n"
                },
                "metadata": {}
              }
            ]
          }
        },
        "345ae7cdecdc4fdf9997be3e00ffd483": {
          "model_module": "@jupyter-widgets/base",
          "model_name": "LayoutModel",
          "model_module_version": "1.2.0",
          "state": {
            "_model_module": "@jupyter-widgets/base",
            "_model_module_version": "1.2.0",
            "_model_name": "LayoutModel",
            "_view_count": null,
            "_view_module": "@jupyter-widgets/base",
            "_view_module_version": "1.2.0",
            "_view_name": "LayoutView",
            "align_content": null,
            "align_items": null,
            "align_self": null,
            "border": null,
            "bottom": null,
            "display": null,
            "flex": null,
            "flex_flow": null,
            "grid_area": null,
            "grid_auto_columns": null,
            "grid_auto_flow": null,
            "grid_auto_rows": null,
            "grid_column": null,
            "grid_gap": null,
            "grid_row": null,
            "grid_template_areas": null,
            "grid_template_columns": null,
            "grid_template_rows": null,
            "height": null,
            "justify_content": null,
            "justify_items": null,
            "left": null,
            "margin": null,
            "max_height": null,
            "max_width": null,
            "min_height": null,
            "min_width": null,
            "object_fit": null,
            "object_position": null,
            "order": null,
            "overflow": null,
            "overflow_x": null,
            "overflow_y": null,
            "padding": null,
            "right": null,
            "top": null,
            "visibility": null,
            "width": null
          }
        }
      }
    }
  },
  "nbformat": 4,
  "nbformat_minor": 5
}