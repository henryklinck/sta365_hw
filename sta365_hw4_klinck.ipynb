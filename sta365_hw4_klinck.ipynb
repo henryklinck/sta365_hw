{
  "cells": [
    {
      "cell_type": "markdown",
      "source": [
        "## Homework\n",
        "\n",
        "---\n",
        "\n",
        "### Q1\n",
        "\n",
        "Convert your **Gibbs sampler** from the previous homework to be a **Metropolis within Gibbs** sampler.\n",
        "- Do not derive any full conditionals and instead just use the joint distribution which is the product of the likelihood with the priors\n",
        "    - Note that in fact you must only be proportional to the joint since irrelevant priors of \"the other parameter\" will cancel in the ratio\n",
        "- Note that $\\tau$ must be positive so proposals $\\tilde \\tau$ must also be positive. The easiest way to achieve this would be to use independent samples (that do not depend on $\\tau^{(t-1)}$ from exponential, half normal, gamma, or inverse gamma distributions (and other distributions defining strictly positive random variables).\n",
        "- When considering using independent proposal distributions one option of some note is to use the prior $p(\\tau)$ as this proposal distribution\n",
        "\n",
        "*Clearly articulate your specification and provide a demonstration showing the Bayesian inference it provides, in contrast to that of your previous Gibbs sampler (of Q2 from the last homework).*"
      ],
      "metadata": {
        "id": "qKsLWJwNPLLe"
      },
      "id": "qKsLWJwNPLLe"
    },
    {
      "cell_type": "code",
      "source": [
        "import numpy as np\n",
        "import matplotlib.pyplot as plt\n",
        "from scipy import stats"
      ],
      "metadata": {
        "id": "mvXgIqOdUUh_"
      },
      "id": "mvXgIqOdUUh_",
      "execution_count": null,
      "outputs": []
    },
    {
      "cell_type": "code",
      "source": [
        "n = 30\n",
        "m = 4           # Prior mean for theta\n",
        "s = 2           # Prior standard deviation for theta\n",
        "theta_0 = 4     # Initial value for theta\n",
        "tau_0 = 1       # Initial value for tau (must be > 0)\n",
        "lmbda = 2       # Proposal scale for theta (Normal proposal)\n",
        "alpha = 2       # Proposal scale for tau (Gamma proposal)\n",
        "\n",
        "x = stats.norm(loc = m, scale = s).rvs(size = n)\n",
        "C,G = 2,10000  # chains, Gibbs samples\n",
        "theta,tau = np.zeros([C,G]),np.zeros([C,G])\n",
        "theta[:,0] = theta_0\n",
        "tau[:,0] = tau_0\n",
        "for c in range(C):\n",
        "    for g in range(1,G):\n",
        "        def tau_target(tau_):\n",
        "            if tau_ <= 0:\n",
        "                return 0\n",
        "            likelihood = np.prod(stats.norm(loc = theta[c, g - 1],\n",
        "                                            scale = (1 / tau_) ** 0.5).pdf(x))\n",
        "            prior = stats.gamma(a = alpha / 2, scale = 2 / lmbda).pdf(tau_)\n",
        "            return likelihood * prior\n",
        "\n",
        "        tau_propsl = stats.gamma(a = 5, scale = 0.1)\n",
        "        tau_tilde = tau_propsl.rvs()\n",
        "\n",
        "        mh_ratio = (tau_target(tau_tilde) / tau_target(tau[c, g - 1])) * \\\n",
        "                   (tau_propsl.pdf(tau[c, g - 1])/tau_propsl.pdf(tau_tilde))\n",
        "\n",
        "        acceptance_prob = min(1, mh_ratio)\n",
        "        if stats.uniform().rvs() < acceptance_prob:\n",
        "            tau[c, g] = tau_tilde\n",
        "        else:\n",
        "            tau[c, g] = tau[c, g - 1]\n",
        "\n",
        "        theta_mean = (tau[c, g] * np.sum(x) +\n",
        "                      tau_0 * theta_0) / (n * tau[c, g] + tau_0)\n",
        "        theta_sd = np.sqrt(1 / (n * tau[c, g] + tau_0))\n",
        "        theta[c, g] = stats.norm(loc = theta_mean, scale = theta_sd).rvs()\n",
        "\n",
        "# Plot #\n",
        "fig, ax = plt.subplots(1, 2, figsize=(12, 4))\n",
        "ax[0].hist(theta[:, 1000:].flatten(), bins = 50,\n",
        "           density = True, alpha = 0.7, label = r\"$\\theta$\")\n",
        "ax[1].hist(tau[:, 1000:].flatten(), bins=50,\n",
        "           density = True, alpha = 0.7, label = r\"$\\tau$\")\n",
        "ax[0].set_title(r\"Posterior Distribution of $\\theta$\")\n",
        "ax[1].set_title(r\"Posterior Distribution of $\\tau$\")\n",
        "ax[0].legend()\n",
        "ax[1].legend()\n",
        "plt.show()"
      ],
      "metadata": {
        "colab": {
          "base_uri": "https://localhost:8080/",
          "height": 391
        },
        "id": "YE1rTKM5POye",
        "outputId": "0ece89fc-ea40-4db2-8cd9-f91e543d6b96"
      },
      "id": "YE1rTKM5POye",
      "execution_count": null,
      "outputs": [
        {
          "output_type": "display_data",
          "data": {
            "text/plain": [
              "<Figure size 1200x400 with 2 Axes>"
            ],
            "image/png": "[encoded data removed]"
          },
          "metadata": {}
        }
      ]
    },
    {
      "cell_type": "markdown",
      "source": [
        "### Q2\n",
        "\n",
        "Adjust your **Metropolis within Gibbs** sampler as follows.\n",
        "\n",
        "- Use the following **dependent** proposal for $\\tau$\n",
        "\n",
        "```Python\n",
        "stats.truncnorm(a=-tau_t_minus_1/s, b=np.inf,\n",
        "                loc=tau_t_minus_1, scale=s)\n",
        "```\n",
        "\n",
        "- Use a prior for $\\theta$ that is not a normal distribution\n",
        "\n",
        "\n",
        "*Provide a demonstration showing the Bayesian inference provided by this sampler. Then discuss the necessity (or lackthereof) of analytically determining the full conditional distributions when performing Gibbs sampling.*"
      ],
      "metadata": {
        "id": "Nlyleg6mPQBG"
      },
      "id": "Nlyleg6mPQBG"
    },
    {
      "cell_type": "code",
      "source": [
        "n = 30\n",
        "m = 4         # Prior mean for theta (used previously)\n",
        "s = 2         # Prior standard deviation for theta (used previously)\n",
        "theta_0 = 4   # Initial value for theta\n",
        "tau_0 = 1     # Initial value for tau (must be > 0)\n",
        "lmbda = 2     # Proposal scale for theta (Normal proposal, previously)\n",
        "alpha = 2     # Prior parameter for tau\n",
        "lambda_theta = 2 # Prior parameter for theta\n",
        "\n",
        "x = stats.norm(loc=m, scale=s).rvs(size=n)\n",
        "C, G = 2, 10000\n",
        "theta = np.zeros([C, G])\n",
        "tau = np.zeros([C, G])\n",
        "\n",
        "theta[:, 0] = theta_0\n",
        "tau[:, 0] = tau_0\n",
        "\n",
        "for c in range(C):\n",
        "    for g in range(1, G):\n",
        "        tau_t_minus_1 = tau[c, g - 1]\n",
        "\n",
        "        a, b = -tau_t_minus_1 / s, np.inf  # Lower bound and no upper bound\n",
        "        tau_propsl = stats.truncnorm(a, b, loc=tau_t_minus_1, scale=s) # new truncated normal proposal for tau\n",
        "        tau_tilde = tau_propsl.rvs()\n",
        "\n",
        "        def tau_target(tau_):\n",
        "            if tau_ <= 0:\n",
        "                return 0\n",
        "            likelihood = np.prod(stats.norm(loc=theta[c, g - 1], scale=(1 / tau_) ** 0.5).pdf(x))\n",
        "            prior = stats.gamma(a=alpha / 2, scale=2 / lmbda).pdf(tau_)\n",
        "            return likelihood * prior\n",
        "\n",
        "        mh_ratio = (tau_target(tau_tilde) / tau_target(tau[c, g - 1])) * \\\n",
        "                   (tau_propsl.pdf(tau[c, g - 1]) / tau_propsl.pdf(tau_tilde))\n",
        "\n",
        "        acceptance_prob = min(1, mh_ratio)\n",
        "        if np.random.uniform() < acceptance_prob:\n",
        "            tau[c, g] = tau_tilde\n",
        "        else:\n",
        "            tau[c, g] = tau[c, g - 1]\n",
        "\n",
        "        b = 2  # Laplace scale parameter\n",
        "\n",
        "        theta_tilde = stats.norm(loc = theta[c, g - 1], scale = 1).rvs()\n",
        "\n",
        "        def theta_target(theta_):\n",
        "            likelihood = np.prod(stats.norm(loc = theta_,\n",
        "                                            scale = (1 / tau[c, g]) ** 0.5).pdf(x))\n",
        "            prior = np.exp(-lambda_theta * abs(theta_))\n",
        "            return likelihood * prior\n",
        "\n",
        "        mh_ratio = theta_target(theta_tilde) / theta_target(theta[c, g - 1])\n",
        "        acceptance_prob = min(1, mh_ratio)\n",
        "        if stats.uniform().rvs() < acceptance_prob:\n",
        "            theta[c, g] = theta_tilde\n",
        "        else:\n",
        "            theta[c, g] = theta[c, g - 1]\n",
        "\n",
        "# Plot #\n",
        "fig, ax = plt.subplots(1, 2, figsize=(12, 4))\n",
        "ax[0].hist(theta[:, 1000:].flatten(), bins = 50,\n",
        "           density = True, alpha = 0.7, label = r\"$\\theta$\")\n",
        "ax[1].hist(tau[:, 1000:].flatten(), bins=50,\n",
        "           density = True, alpha = 0.7, label = r\"$\\tau$\")\n",
        "ax[0].set_title(r\"Posterior Distribution of $\\theta$\")\n",
        "ax[1].set_title(r\"Posterior Distribution of $\\tau$\")\n",
        "ax[0].legend()\n",
        "ax[1].legend()\n",
        "plt.show()"
      ],
      "metadata": {
        "id": "OpdDBjw4PbDn",
        "colab": {
          "base_uri": "https://localhost:8080/",
          "height": 391
        },
        "outputId": "bad73df5-fd31-4b60-966a-0d0c045969c5"
      },
      "id": "OpdDBjw4PbDn",
      "execution_count": null,
      "outputs": [
        {
          "output_type": "display_data",
          "data": {
            "text/plain": [
              "<Figure size 1200x400 with 2 Axes>"
            ],
            "image/png": "[encoded data removed]"
          },
          "metadata": {}
        }
      ]
    },
    {
      "cell_type": "markdown",
      "id": "c1d59112",
      "metadata": {
        "id": "c1d59112"
      },
      "source": [
        "\n",
        "\n",
        "\n",
        "\n",
        "### Q3\n",
        "\n",
        "For **Metropolis Hastings** targetting (**stationary distribution**) $p$ based on proposal distribuiton $q$ given below\n",
        "\n",
        "$\\begin{align}\n",
        "q(\\tilde x^{(t)} | x^{(t-1)}) &={} \\left(\\frac{1}{2}\\right)^{1-{\\tilde x^{(t)}}}\\left(\\frac{1}{2}\\right)^{\\tilde x^{(t)}} \\quad \\color{gray}{\\textrm{ ... does } \\quad \\frac{q(x^{(t-1)}|\\tilde x^{(t)})}{q(\\tilde x^{(t)}|x^{(t-1)})} \\quad  \\textrm{ cancel?}}\\\\\n",
        "\\textrm{and} \\quad p(x^{(t)}) &={} \\left(\\frac{1}{3}\\right)^{1-{x^{(t)}}}\\left(\\frac{2}{3}\\right)^{x^{(t)}}\\\\\n",
        "\\end{align}$\n",
        "\n",
        "<u>show that</u> the **transition kernel** $K$ of transition probabilities is defined the **Metropolis Hastings** algorithm is\n",
        "\n",
        "$K = \\left[\\begin{array}{cc}\\Pr(x^{(t)}=0 \\rightarrow x^{(t+1)}=0) & \\Pr(x^{(t)}=1 \\rightarrow x^{(t+1)}=0)\\\\\\Pr(x^{(t)}=0 \\rightarrow x^{(t+1)}=1)& \\Pr(x^{(t)}=1 \\rightarrow x^{(t+1)}=1)\\end{array}\\right] = \\left[\\begin{array}{cl} 0.5 & 0.25 \\\\ 0.5 & 0.75 \\end{array}\\right]$\n",
        "\n",
        "> For example\n",
        ">\n",
        "> $\\begin{align}\n",
        "\\Pr(s_1 \\rightarrow s_1) &={}\n",
        "q(\\tilde x^{(t)}=1 | x^{(t-1)}=1) + q(\\tilde x^{(t)}=0 | x^{(t-1)}=1) \\left(1- \\frac{p(\\tilde x^{(t)}=0)}{p(x^{(t-1)}=1)}\\right)\\\\\n",
        "&={} 1/2 + (1/2)(1-(1/3)/(2/3)) = 0.75\n",
        "\\end{align}$\n",
        "\n"
      ]
    },
    {
      "cell_type": "markdown",
      "id": "eba2010c",
      "metadata": {
        "id": "eba2010c"
      },
      "source": [
        "This **transition kernel** $K$ means that\n",
        "\n",
        "- if we're currently a $0$ there's a 50\\% chance that we'll stay a $0$ and 50\\% chance that we'll change to a $1$\n",
        "- and if we're currently a $1$ there's a 75\\% chance that we'll stay a $1$ and 25\\% chance that we'll change to a $0$\n",
        "\n",
        "which specifies [geometric distributions](https://en.wikipedia.org/wiki/Geometric_distribution) with, respectively, expected values of $1$ and $3$ \"failures before transitioning to the other state\" which means that on average a \"$0$ state\" will be a run of two $0$'s while a \"$1$ state\" will be a run of four $1$'s which leads to the desired one-to-two (or one-thirds to two-thirds) ratio of $0$'s and $1$ is the Markov Chain.\n"
      ]
    },
    {
      "cell_type": "markdown",
      "source": [
        "**Answer**\n",
        "\n",
        "The proposal distribution q for proposing $\\tilde x^{(t)}$ given the current state $x^{(t-1)}$:\n",
        "\n",
        "\\begin{equation}\n",
        "q(\\tilde{x}^{(t)}|x^{(t-1)}) = \\{\\frac{1}{2} \\text{, if $\\tilde{x}^{(t)}$ = 0 or 1}\n",
        "\\end{equation}\n",
        "\n",
        "The stationary distribution is:\n",
        "\\begin{equation}\n",
        "p(x) =\n",
        "\\begin{cases}\n",
        "\\frac{1}{3}, & x = 0 \\\\\n",
        "\\frac{2}{3}, & x = 1\n",
        "\\end{cases}\n",
        "\\end{equation}\n",
        "\n",
        "Since the proposal distribution is symmetric:\n",
        "\\begin{equation}\n",
        "q(x^{(t-1)} | \\tilde{x}^{(t)}) = q(\\tilde{x}^{(t)} | x^{(t-1)}) = \\frac{1}{2}\n",
        "\\end{equation}\n",
        "these terms cancel in the Metropolis-Hastings acceptance probability:\n",
        "\\begin{equation}\n",
        "A(\\tilde{x}^{(t)} | x^{(t-1)}) = \\min \\left(1, \\frac{p(\\tilde{x}^{(t)})}{p(x^{(t-1)})} \\right)\n",
        "\\end{equation}\n",
        "\n",
        "**Compute Transition Probabilities**\n",
        "\n",
        "1. Transition Probability $ P(0 \\to 0) $:\n",
        "\\begin{equation}\n",
        "P( x^{(t)} = 0 | x^{(t-1)} = 0) = q(1 | 0) (1 - A(1 | 0)) + q(0 | 0)\n",
        "\\end{equation}\n",
        "\n",
        "Since $ A(1 | 0) = \\min(1, \\frac{2/3}{1/3}) = 1 $, we get:\n",
        "\\begin{equation}\n",
        "P(0 \\to 0) = \\frac{1}{2} (1 - 1) + \\frac{1}{2} = 0.5\n",
        "\\end{equation}\n",
        "\n",
        "2. Transition Probability $ P(0 \\to 1) $:\n",
        "\\begin{equation}\n",
        "P( x^{(t)} = 1 | x^{(t-1)} = 0) = q(1 | 0) \\times A(1 | 0) \\\\\n",
        "= \\frac{1}{2} \\times 1 = 0.5\n",
        "\\end{equation}\n",
        "\n",
        "3. Transition Probability $ P(1 \\to 0) $:\n",
        "\\begin{equation}\n",
        "P( x^{(t)} = 0 | x^{(t-1)} = 1) = q(0 | 1) \\times A(0 | 1)\n",
        "\\end{equation}\n",
        "\n",
        "where\n",
        "\\begin{equation}\n",
        "A(0 | 1) = \\min(1, \\frac{1/3}{2/3}) = \\frac{1}{2}\n",
        "\\end{equation}\n",
        "\n",
        "\\begin{equation}\n",
        "P(1 \\to 0) = \\frac{1}{2} \\times \\frac{1}{2} = 0.25\n",
        "\\end{equation}\n",
        "\n",
        "4. Transition Probability $ P(1 \\to 1) $:\n",
        "\\begin{equation}\n",
        "P( x^{(t)} = 1 | x^{(t-1)} = 1) = q(1 | 1) (1 - A(0 | 1)) + q(0 | 1)\n",
        "\\end{equation}\n",
        "\n",
        "\\begin{equation}\n",
        "= \\frac{1}{2} (1 - \\frac{1}{2}) + \\frac{1}{2} = 0.75\n",
        "\\end{equation}\n",
        "\n",
        "Thus, the transition kernel matrix (K) is:\n",
        "\\begin{equation}\n",
        "K =\n",
        "\\begin{bmatrix}\n",
        "0.5 & 0.5 \\\\\n",
        "0.25 & 0.75\n",
        "\\end{bmatrix}\n",
        "\\end{equation}"
      ],
      "metadata": {
        "id": "aQrHE5uGjb8-"
      },
      "id": "aQrHE5uGjb8-"
    },
    {
      "cell_type": "markdown",
      "source": [
        "References: Used generative AI (OpenAI 4o) to convert equations to latex"
      ],
      "metadata": {
        "id": "4bWrqBJ9od17"
      },
      "id": "4bWrqBJ9od17"
    }
  ],
  "metadata": {
    "kernelspec": {
      "display_name": "Python 3 (ipykernel)",
      "language": "python",
      "name": "python3"
    },
    "language_info": {
      "codemirror_mode": {
        "name": "ipython",
        "version": 3
      },
      "file_extension": ".py",
      "mimetype": "text/x-python",
      "name": "python",
      "nbconvert_exporter": "python",
      "pygments_lexer": "ipython3",
      "version": "3.11.4"
    },
    "colab": {
      "provenance": []
    }
  },
  "nbformat": 4,
  "nbformat_minor": 5
}