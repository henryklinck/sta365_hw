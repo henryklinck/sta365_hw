{
  "cells": [
    {
      "cell_type": "markdown",
      "id": "3f3c3235",
      "metadata": {
        "id": "3f3c3235"
      },
      "source": [
        "## Week 8 Homework\n",
        "\n",
        "---\n",
        "\n",
        "### Q1: derive the following\n",
        "\n",
        "1. $p(\\boldsymbol \\beta | \\textbf{y}, \\textbf{X}, \\Sigma=\\sigma^2 I)$ for the **linear regression model** likelihood proportional to $\\exp \\left(-{\\frac {1}{2}}(\\mathbf {y} -\\mathbf{X\\boldsymbol \\beta})^\\top \\Sigma^{-1}(\\mathbf {y} - \\mathbf{X\\boldsymbol\\beta})\\right)$ and a $\\mathcal{MVN}(\\boldsymbol\\beta_0, \\boldsymbol\\Sigma_\\beta)$ for $\\boldsymbol\\beta$\n",
        "\n",
        "2. The analytical posterior distribution for $\\sigma^2$ the **error variance** of a **linear regression model** with **design matrix** $\\mathbf{X}$ assuming $\\sigma^2$ has an **inverse-gamma** prior distribution with parameters $\\alpha^*$ and $\\beta^*$ (unrelated to $\\boldsymbol \\beta$).\n",
        "\n",
        "\n",
        "*Note though that Bayesians do not optimize posterior distributions, they sample from them; but, nonetheless, the posterior distributions serve to provided 'regularizeations' of the likelihood through the prior.*\n"
      ]
    },
    {
      "cell_type": "markdown",
      "source": [
        "1.\n",
        "\n",
        "Get posterior of $\\beta$ by combining liklihood and prior:\n",
        "\n",
        "$p(\\boldsymbol \\beta | \\textbf{y}, \\textbf{X}, \\sigma^2) ∝ \\exp \\left(-{\\frac {1}{2}}(\\mathbf {y} -\\mathbf{X\\boldsymbol \\beta})^\\top (\\mathbf {y} - \\mathbf{X\\boldsymbol\\beta})\\right) × \\exp \\left(-{\\frac {1}{2}}(\\beta -\\beta_0) \\Sigma^{-1}_{\\beta}(\\beta - \\beta_0)\\right) $\n",
        "\n",
        "Combining the two exponentials in quadratic form, the posterior for β is also a multivariate normal.\n",
        "\n",
        "$β|y,X,σ^2 ~ N(μ_\\beta , Σ_{\\beta | y})$\n",
        "\n",
        ",where,\n",
        "- Posterior covariance:\n",
        "$Σ_{\\beta | y} = (\\frac{1}{σ^2}X^{T}X + Σ^{-1}_{\\beta})^{-1}$\n",
        "- Posterior mean:\n",
        "$\\mu_{\\beta} = Σ_{\\beta | y}(\\frac{1}{σ^2}X^{T}y + Σ^{-1}_{\\beta}\\beta_0)$\n",
        "\n",
        "Together:\n",
        "\n",
        "$\\boldsymbol \\beta | \\textbf{y}, \\textbf{X}, \\sigma^2 ~ N(Σ_{\\beta | y}[Σ_{\\beta | y}(\\frac{1}{σ^2}X^{T}y + Σ^{-1}_{\\beta}\\beta_0)], Σ_{\\beta | y})$\n",
        "\n",
        "where $Σ_{\\beta | y} = (\\frac{1}{σ^2}X^{T}X + Σ^{-1}_{\\beta})^{-1}$\n",
        "\n",
        "2.\n",
        "\n",
        "\n",
        "Assume we have an inverse-gamma prior on $\\sigma^2$ given by\n",
        "\n",
        "$\\sigma^2 \\sim \\mathrm{Inv}\\Gamma(\\alpha^*, \\beta^*)$.\n",
        "\n",
        "\n",
        "The likelihood contribution (viewed as a function of $\\sigma^2$ from\n",
        "$\\mathbf{y} \\mid \\boldsymbol{\\beta}, \\sigma^2 \\sim N(\\mathbf{X}\\boldsymbol{\\beta}, \\sigma^2 \\mathbf{I})$ is:\n",
        "\n",
        "$(\\sigma^2)^{-\\frac{n}{2}}\n",
        "\\exp\\Bigl(\n",
        "-\\tfrac{1}{2\\,\\sigma^2}(\\mathbf{y} - \\mathbf{X}\\boldsymbol{\\beta})^\\top(\\mathbf{y} - \\mathbf{X}\\boldsymbol{\\beta})\n",
        "\\Bigr).$\n",
        "\n",
        "Combining this likelihood with the inverse-gamma prior,\n",
        "$(\\sigma^2)^{-\\alpha^*-1}\n",
        "\\exp\\!\\Bigl(-\\tfrac{\\beta^*}{\\sigma^2}\\Bigr),$\n",
        "yields the posterior (or full conditional) for $\\sigma^2$:\n",
        "\n",
        "$\n",
        "\\sigma^2 \\,\\Big|\\; \\mathbf{y}, \\mathbf{X}, \\boldsymbol{\\beta}\n",
        "~\\sim~\n",
        "\\mathrm{Inv}\\Gamma\\Bigl(\\,\n",
        "\\alpha^* + \\tfrac{n}{2},\n",
        "\\;\\beta^* + \\tfrac{1}{2}\\,(\\mathbf{y}-\\mathbf{X}\\boldsymbol{\\beta})^\\top(\\mathbf{y}-\\mathbf{X}\\boldsymbol{\\beta})\n",
        "\\Bigr).$"
      ],
      "metadata": {
        "id": "yf9lNqoXnf_3"
      },
      "id": "yf9lNqoXnf_3"
    },
    {
      "cell_type": "markdown",
      "source": [
        "### Q2: perform Bayesian Linear Regression\n",
        "\n",
        "- For any data set you find interesting (perhaps from kaggle.com?)\n",
        "- Use an appropriate non **inverse-gamma** prior for `sigma`\n",
        "- Use `pm.Normal('betas', mu=0, sigma=1, shape=p)` rather than a `pm.MvNormal` alternative\n",
        "- Use `pm.Normal('y', mu=X@betas, sigma=sigma, observed=y)` rather than `pm.MvNormal` alternative\n",
        "- Provide inference with Bayesian posterior analysis and report MCMC diagnostics\n"
      ],
      "metadata": {
        "id": "zbG7-kuhmWxc"
      },
      "id": "zbG7-kuhmWxc"
    },
    {
      "cell_type": "markdown",
      "source": [
        "### Q3: perform robust Bayesian Linear Regression\n",
        "\n",
        "Let $p(\\tau_i)$ be $\\require{cancel} \\textrm{gamma}\\big(\\tau_i | \\alpha = \\frac{\\nu}{2}, \\overset{\\textrm{rate}\\xcancel{\\textrm{scale}}}{\\beta = \\frac{\\nu}{2}}\\big)$ and let $p(y_i|\\boldsymbol \\beta, \\tau,\\tau_i)$ be $\\mathcal{N}(y_i | \\textbf{X} \\boldsymbol \\beta, \\overset{\\textrm{precision}}{\\tau \\times \\tau_i})$.\n",
        "\n",
        "- Return to your dataset and maniputate it to have some various outliers or find another dataset with some outlier data\n",
        "- Use an appropriate prior for inference on $v$ if you have enough data to do so\n",
        "- Use the posterior distributions of the $\\tau_i$'s to identify data point \"outliers\"\n",
        "- Use the posterior distributions of the $\\sigma_i^{-2} = \\tau \\times \\tau_i$ to create posterior distribuitions of the **influence** (the diagonals of the $H$ \"hat\" matrix $X^\\top (X^\\top D X)^{-1} X$ where $D_{ij}=0$ and $D_{ii} = \\sigma^2_i$) and compare and contras some example \"outlier\" versus \"non outlier\" data points\n",
        "\n",
        "- Provide inference with Bayesian posterior analysis and report MCMC diagnostics\n",
        "\n",
        "#### [Optional] Q3 Extra: measurement error models?\n",
        "\n",
        "What if $\\textbf{x}_i = \\textbf{x}_i^{true} + \\eta_i, \\eta_i \\sim \\mathcal{MVN}(\\textbf{0}, \\Sigma)$ for some kind of measurement error covariance structure $\\Sigma$ and $\\mathcal N (y_i| \\textbf{X}^{true}\\boldsymbol \\beta, \\sigma)$?\n"
      ],
      "metadata": {
        "id": "cB-5D6kFme1l"
      },
      "id": "cB-5D6kFme1l"
    },
    {
      "cell_type": "code",
      "execution_count": null,
      "id": "720165d4",
      "metadata": {
        "id": "720165d4"
      },
      "outputs": [],
      "source": []
    }
  ],
  "metadata": {
    "kernelspec": {
      "display_name": "Python 3 (ipykernel)",
      "language": "python",
      "name": "python3"
    },
    "language_info": {
      "codemirror_mode": {
        "name": "ipython",
        "version": 3
      },
      "file_extension": ".py",
      "mimetype": "text/x-python",
      "name": "python",
      "nbconvert_exporter": "python",
      "pygments_lexer": "ipython3",
      "version": "3.11.4"
    },
    "colab": {
      "provenance": []
    }
  },
  "nbformat": 4,
  "nbformat_minor": 5
}